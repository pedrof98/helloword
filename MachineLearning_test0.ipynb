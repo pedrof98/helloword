{
  "nbformat": 4,
  "nbformat_minor": 0,
  "metadata": {
    "colab": {
      "name": "Untitled0.ipynb",
      "provenance": [],
      "authorship_tag": "ABX9TyP+bsKgddJvM4uINNpcfzNe",
      "include_colab_link": true
    },
    "kernelspec": {
      "name": "python3",
      "display_name": "Python 3"
    },
    "language_info": {
      "name": "python"
    }
  },
  "cells": [
    {
      "cell_type": "markdown",
      "metadata": {
        "id": "view-in-github",
        "colab_type": "text"
      },
      "source": [
        "<a href=\"https://colab.research.google.com/github/pedrof98/helloword/blob/main/MachineLearning_test0.ipynb\" target=\"_parent\"><img src=\"https://colab.research.google.com/assets/colab-badge.svg\" alt=\"Open In Colab\"/></a>"
      ]
    },
    {
      "cell_type": "code",
      "metadata": {
        "colab": {
          "base_uri": "https://localhost:8080/",
          "height": 947
        },
        "id": "tXqC3LVqWs_N",
        "outputId": "a0f0e911-b9fc-4a3f-e1f2-6e993c1d573b"
      },
      "source": [
        "import tensorflow as tf\n",
        "import keras\n",
        "\n",
        "\n",
        "mnist = tf.keras.datasets.mnist #28x28 imagens de digitos escritos à mão 0-9\n",
        "\n",
        "\n",
        "(x_train, y_train), (x_test, y_test) = mnist.load_data() #unpacking dos dados para mnist.load_dat\n",
        "\n",
        "\n",
        "x_train = tf.keras.utils.normalize(x_train, axis=1)\n",
        " # normalizar o valor atribuido pelo tensor aos pixeis\n",
        "\n",
        "x_test = tf.keras.utils.normalize(x_test, axis=1)\n",
        " #alterar para analisar como afeta o sistema em termos de velocidade\n",
        "\n",
        "model = tf.keras.models.Sequential() \n",
        "#modelar o tensor de forma sequencial\n",
        "\n",
        "model.add(tf.keras.layers.Flatten())\n",
        " #modelar a layer do output da rede neuronal convolutada de densa para flat\n",
        "\n",
        "model.add(tf.keras.layers.Dense(128, activation=tf.nn.relu))\n",
        " #modelar as hidden layers para 128 unidades(neuroes) e activar o neurao com a função nn.relu (função de ativação por defeito)\n",
        "\n",
        "model.add(tf.keras.layers.Dense(10, activation=tf.nn.softmax))\n",
        "#modelar as hidden layers para 10 unidades e para serem ativadas através de probabilidade nn.softmax\n",
        "\n",
        "\n",
        "\n",
        "model.compile(optimizer='adam', loss='sparse_categorical_crossentropy', metrics=['accuracy'] )\n",
        "#compilar os modelos com optimizador(para otimizar o modelo quanto à precisão de representação) por defeito\"adam\"\n",
        "# compilar por função de perda para relacionar várias variáveis tanto dependentes e independentes\n",
        "#metrica a medir 'accuracy' para precisão\n",
        "\n",
        "\n",
        "\n",
        "model.fit(x_train, y_train, epochs=3) #modelos a treinar, com o comando epochs = 3, fazemos com que a rede analise os dados 3 vezes\n",
        "\n",
        "\n",
        "val_loss, val_acc = model.evaluate(x_test, y_test)\n",
        "print(val_loss,val_acc)\n",
        "\n",
        "model.save('num_reader.model')\n",
        "\n",
        "new_model = tf.keras.models.load_model('num_reader.model')\n",
        "\n",
        "predictions = new_model.predict([x_test])\n",
        "\n",
        "print(predictions)\n",
        "\n",
        "import numpy as np\n",
        "\n",
        "print(np.argmax(predictions[0]))\n",
        "\n",
        "plt.imshow(x_test[0])\n",
        "plt.show()\n",
        "\n",
        "\n",
        "import matplotlib.pyplot as plt #\n",
        "\n",
        "plt.imshow(x_train[1], cmap = plt.cm.binary) #mostrar a figura com configuração binária de cores\n",
        "\n",
        "#print(x_train[0])  #impressão de um tensor (que é basicamente um array)\n",
        "plt.show #mostrar a figura\n",
        "\n",
        "\n"
      ],
      "execution_count": 32,
      "outputs": [
        {
          "output_type": "stream",
          "text": [
            "Epoch 1/3\n",
            "1875/1875 [==============================] - 4s 2ms/step - loss: 0.5385 - accuracy: 0.8561\n",
            "Epoch 2/3\n",
            "1875/1875 [==============================] - 4s 2ms/step - loss: 0.1598 - accuracy: 0.9551\n",
            "Epoch 3/3\n",
            "1875/1875 [==============================] - 4s 2ms/step - loss: 0.1061 - accuracy: 0.9686\n",
            "313/313 [==============================] - 1s 1ms/step - loss: 0.1103 - accuracy: 0.9665\n",
            "0.11033663153648376 0.9664999842643738\n",
            "INFO:tensorflow:Assets written to: num_reader.model/assets\n",
            "[[3.9428030e-09 4.0386836e-09 6.2736603e-05 ... 9.9974793e-01\n",
            "  3.2384398e-07 9.8520411e-07]\n",
            " [3.3123727e-06 1.4743666e-03 9.9828076e-01 ... 2.1281941e-11\n",
            "  7.2907790e-07 6.0162461e-12]\n",
            " [7.4383416e-07 9.9899203e-01 1.5731945e-04 ... 1.5310054e-04\n",
            "  2.7088294e-04 1.1336751e-06]\n",
            " ...\n",
            " [1.3762063e-09 1.9469880e-08 1.2311847e-07 ... 1.5384689e-05\n",
            "  2.1310561e-04 4.0866670e-04]\n",
            " [2.7965256e-05 1.4957236e-05 1.3117112e-06 ... 1.0053676e-05\n",
            "  2.7212501e-03 1.9669214e-08]\n",
            " [1.2831928e-05 1.5778310e-08 8.9274406e-05 ... 9.2425612e-10\n",
            "  1.3486056e-07 1.2534826e-08]]\n",
            "7\n"
          ],
          "name": "stdout"
        },
        {
          "output_type": "display_data",
          "data": {
            "image/png": "[encoded data removed]",
            "text/plain": [
              "<Figure size 432x288 with 1 Axes>"
            ]
          },
          "metadata": {
            "tags": [],
            "needs_background": "light"
          }
        },
        {
          "output_type": "execute_result",
          "data": {
            "text/plain": [
              "<function matplotlib.pyplot.show>"
            ]
          },
          "metadata": {
            "tags": []
          },
          "execution_count": 32
        },
        {
          "output_type": "display_data",
          "data": {
            "image/png": "[encoded data removed]",
            "text/plain": [
              "<Figure size 432x288 with 1 Axes>"
            ]
          },
          "metadata": {
            "tags": [],
            "needs_background": "light"
          }
        }
      ]
    }
  ]
}